{
 "cells": [
  {
   "cell_type": "code",
   "execution_count": 1,
   "id": "f52b7485",
   "metadata": {},
   "outputs": [],
   "source": [
    "import pandas as pd\n",
    "from kafka import KafkaConsumer\n",
    "from time import sleep\n",
    "from json import dumps,loads\n",
    "import json\n",
    "from s3fs import S3FileSystem"
   ]
  },
  {
   "cell_type": "code",
   "execution_count": 2,
   "id": "80e96e3e",
   "metadata": {},
   "outputs": [],
   "source": [
    "#consumer code\n",
    "\n",
    "consumer = KafkaConsumer('demo_test2',bootstrap_servers=['43.204.25.108:9092'],\n",
    "                        value_deserializer=lambda x:loads(x.decode('utf-8')))"
   ]
  },
  {
   "cell_type": "code",
   "execution_count": 3,
   "id": "1c87f095",
   "metadata": {},
   "outputs": [],
   "source": [
    "# for c in consumer:\n",
    "#     print(c.value) #to display text produced from producer"
   ]
  },
  {
   "cell_type": "code",
   "execution_count": 4,
   "id": "162f7543",
   "metadata": {},
   "outputs": [],
   "source": [
    "#pip install s3fs"
   ]
  },
  {
   "cell_type": "code",
   "execution_count": 5,
   "id": "759236a7",
   "metadata": {},
   "outputs": [],
   "source": [
    "# for count,i in enumerate(consumer):\n",
    "#     print(count)\n",
    "#     print(i.value)\n",
    "# #here we are iterating and storing the count\n",
    "# #o/p:--\n",
    "# # 0\n",
    "# # {'Big2':'Data2'}\n",
    "# # 1\n",
    "# # {'Big2':'Data2'}\n",
    "# # 2\n",
    "# # {'Big3':'Data3'}\n"
   ]
  },
  {
   "cell_type": "code",
   "execution_count": 6,
   "id": "1adc61e8",
   "metadata": {},
   "outputs": [],
   "source": [
    "s3 = S3FileSystem()"
   ]
  },
  {
   "cell_type": "code",
   "execution_count": null,
   "id": "7f0e17b4",
   "metadata": {},
   "outputs": [],
   "source": [
    "for count,i in enumerate(consumer):\n",
    "    with s3.open(\"s3://ansel-stock-kafka/stock_market_{}.json\".format(count),'w') as file:\n",
    "        json.dump(i.value,file)\n",
    "        "
   ]
  },
  {
   "cell_type": "code",
   "execution_count": null,
   "id": "99e3ca3c",
   "metadata": {},
   "outputs": [],
   "source": []
  }
 ],
 "metadata": {
  "kernelspec": {
   "display_name": "Python 3 (ipykernel)",
   "language": "python",
   "name": "python3"
  },
  "language_info": {
   "codemirror_mode": {
    "name": "ipython",
    "version": 3
   },
   "file_extension": ".py",
   "mimetype": "text/x-python",
   "name": "python",
   "nbconvert_exporter": "python",
   "pygments_lexer": "ipython3",
   "version": "3.10.6"
  }
 },
 "nbformat": 4,
 "nbformat_minor": 5
}
